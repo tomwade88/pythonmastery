{
 "cells": [
  {
   "cell_type": "markdown",
   "metadata": {},
   "source": [
    "## Practice OOP: a Well class\n",
    "\n",
    "More practice on classes."
   ]
  },
  {
   "cell_type": "markdown",
   "metadata": {},
   "source": [
    "We'll start by creating a function that can read tops from a file that looks like this:"
   ]
  },
  {
   "cell_type": "markdown",
   "metadata": {},
   "source": [
    "```rust\n",
    "# Full Name : SHELL ABENAKI L-57 \n",
    "# Rotary Table : 31.4 M \n",
    "# Water Depth : 108.8 M \n",
    "# UWI : 300 L57 44200 59450 \n",
    "# Regulator Sequence Number : D016 \n",
    "# Spud Date : 28-MAY-1970 \n",
    "# Total Depth : 2178.4 M \n",
    "# Basin : SCOTIAN BASIN \n",
    "# Subbasin : ABENAKI SUBBASIN \n",
    "# Latitude (NAD27) : 44.27625 \n",
    "# Longitude (NAD27) : -59.89431 \n",
    "# Northing (NAD27) : 4906414.0 \n",
    "# Easting (NAD27) : 269021.0 \n",
    "# Latitude (NAD83) : 44.276317 \n",
    "# Longitude (NAD83) : -59.893536 \n",
    "# Northing (NAD83) : 4906636.0 \n",
    "# Easting (NAD83) : 269090.0 \n",
    "# Zone (UTM) : 21 \n",
    "# Common Name : ABENAKI L-57 \n",
    "# Year, Author, Depth Type, Top, Bottom, Units, Formation\n",
    "1993, MACLEAN,B.C. & WADE,J.A., MD, , 624.85, M, BANQUEREAU FM\n",
    "1993, MACLEAN,B.C. & WADE,J.A., MD, 624.85, 624.85, M, (UNCONFORMITY)\n",
    "1993, MACLEAN,B.C. & WADE,J.A., MD, 624.85, 728.18, M, DAWSON CANYON FM\n",
    "1993, MACLEAN,B.C. & WADE,J.A., MD, 675.14, 682.76, M, PETREL MB\n",
    "1993, MACLEAN,B.C. & WADE,J.A., MD, 728.18, 1492.01, M, LOGAN CANYON FM\n",
    "1993, MACLEAN,B.C. & WADE,J.A., MD, 1449.65, 1492.01, M, NASKAPI MB\n",
    "1993, MACLEAN,B.C. & WADE,J.A., MD, 1492.01, 1996.46, M, MISSISAUGA FM\n",
    "1993, MACLEAN,B.C. & WADE,J.A., MD, 1492.01, 1800.48, M, MISSISAUGA UPPER MB\n",
    "1993, MACLEAN,B.C. & WADE,J.A., MD, 1795.29, 1800.48, M, (\"O\" MARKER ?)\n",
    "1993, MACLEAN,B.C. & WADE,J.A., MD, 1800.48, 1946.48, M, MISSISAUGA MIDDLE MB\n",
    "1993, MACLEAN,B.C. & WADE,J.A., MD, 1946.48, 1996.46, M, MISSISAUGA LOWER MB\n",
    "1993, MACLEAN,B.C. & WADE,J.A., MD, 1996.46, 2167.15, M, (CAPROCK ?)\n",
    "1993, MACLEAN,B.C. & WADE,J.A., MD, 2167.15, 2178.43, M, ARGO FM\n",
    "```"
   ]
  },
  {
   "cell_type": "markdown",
   "metadata": {},
   "source": [
    "This file is found in `../data/tops/ABENAKI_L-57.tops`."
   ]
  },
  {
   "cell_type": "markdown",
   "metadata": {
    "tags": [
     "exe"
    ]
   },
   "source": [
    "<div class=\"alert alert-success\">\n",
    "<h3>**Exercise**</h3>\n",
    "\n",
    "* Write a function that parses a tops file that contains that information. It should return a dictionary where the key and values are the name of the top and its depth, respectivetly. This function should also return the latitude and longitude (NAD27) as well as the Full Name of the well.\n",
    "</div>"
   ]
  },
  {
   "cell_type": "code",
   "execution_count": null,
   "metadata": {},
   "outputs": [],
   "source": [
    "def get_tops_from_file(fname):\n",
    "    \"\"\"\n",
    "    Read a CSV-like file and get top depths from it.\n",
    "    \"\"\"\n",
    "    \n",
    "    # Your code here\n",
    "        \n",
    "    return full_name, (latitude, longitude), tops"
   ]
  },
  {
   "cell_type": "code",
   "execution_count": 1,
   "metadata": {},
   "outputs": [
    {
     "name": "stdout",
     "output_type": "stream",
     "text": [
      "SHELL ABENAKI L-57 \n",
      "\n",
      "SHELL ABENAKI L-57 \n",
      "\n",
      "44.27625\n",
      "-59.89431\n",
      "{'BANQUEREAU FM\\n': '', '(UNCONFORMITY)\\n': '624.85', 'DAWSON CANYON FM\\n': '624.85', 'PETREL MB\\n': '675.14', 'LOGAN CANYON FM\\n': '728.18', 'NASKAPI MB\\n': '1449.65', 'MISSISAUGA FM\\n': '1492.01', 'MISSISAUGA UPPER MB\\n': '1492.01', '(\"O\" MARKER ?)\\n': '1795.29', 'MISSISAUGA MIDDLE MB\\n': '1800.48', 'MISSISAUGA LOWER MB\\n': '1946.48', '(CAPROCK ?)\\n': '1996.46', 'ARGO FM\\n': '2167.15'}\n"
     ]
    }
   ],
   "source": [
    "import numpy as np\n",
    "inF = \"../data/tops/ABENAKI_L-57.tops\"\n",
    "\n",
    "class WellTops:\n",
    "    def __init__(self, name, depth):\n",
    "        self.name = name\n",
    "        self.depth = depth\n",
    "\n",
    "\n",
    "def get_tops_from_file(inF):\n",
    "    \"\"\"\n",
    "    Function to extract data from csv file\n",
    "    :param inF:\n",
    "    :return:\n",
    "    \"\"\"\n",
    "    tops_dict = {}\n",
    "    with open(inF, 'r') as f:\n",
    "        data = f.readlines()\n",
    "        for x in data:\n",
    "            if 'Full Name' in x:\n",
    "                full_name = x.split(':')[-1]\n",
    "                print(full_name)\n",
    "\n",
    "            if 'Latitude (NAD27)' in x:\n",
    "                latitude = float(x.split(':')[-1])\n",
    "\n",
    "            if 'Longitude (NAD27)' in x:\n",
    "                longitude = float(x.split(':')[-1])\n",
    "\n",
    "            if x.startswith('#'):\n",
    "                continue\n",
    "\n",
    "            else:\n",
    "                top = x.split(',')\n",
    "                name = top[-1]\n",
    "                depth = top[-4]\n",
    "                tops_dict.update({name:depth})\n",
    "\n",
    "        return full_name, latitude, longitude, tops_dict\n",
    "\n",
    "well_name, lat, long, tops = get_tops_from_file(inF)\n",
    "\n",
    "print(well_name)\n",
    "print(lat)\n",
    "print(long)\n",
    "print(tops)"
   ]
  },
  {
   "cell_type": "code",
   "execution_count": 2,
   "metadata": {},
   "outputs": [
    {
     "name": "stdout",
     "output_type": "stream",
     "text": [
      "SHELL ABENAKI L-57 \n",
      "\n"
     ]
    },
    {
     "data": {
      "text/plain": [
       "('SHELL ABENAKI L-57 \\n',\n",
       " 44.27625,\n",
       " -59.89431,\n",
       " {'BANQUEREAU FM\\n': '',\n",
       "  '(UNCONFORMITY)\\n': '624.85',\n",
       "  'DAWSON CANYON FM\\n': '624.85',\n",
       "  'PETREL MB\\n': '675.14',\n",
       "  'LOGAN CANYON FM\\n': '728.18',\n",
       "  'NASKAPI MB\\n': '1449.65',\n",
       "  'MISSISAUGA FM\\n': '1492.01',\n",
       "  'MISSISAUGA UPPER MB\\n': '1492.01',\n",
       "  '(\"O\" MARKER ?)\\n': '1795.29',\n",
       "  'MISSISAUGA MIDDLE MB\\n': '1800.48',\n",
       "  'MISSISAUGA LOWER MB\\n': '1946.48',\n",
       "  '(CAPROCK ?)\\n': '1996.46',\n",
       "  'ARGO FM\\n': '2167.15'})"
      ]
     },
     "execution_count": 2,
     "metadata": {},
     "output_type": "execute_result"
    }
   ],
   "source": [
    "get_tops_from_file('../data/tops/ABENAKI_L-57.tops')"
   ]
  },
  {
   "cell_type": "markdown",
   "metadata": {},
   "source": [
    "When you run the previous cell, the output should look like this:\n",
    "```python\n",
    " ('SHELL ABENAKI L-57',\n",
    " (44.27625, -59.89431),\n",
    " {'BANQUEREAU FM': {'top': None, 'base': 624.85, 'units': 'M'},\n",
    "  '(UNCONFORMITY)': {'top': 624.85, 'base': 624.85, 'units': 'M'},\n",
    "  'DAWSON CANYON FM': {'top': 624.85, 'base': 728.18, 'units': 'M'},\n",
    "  'PETREL MB': {'top': 675.14, 'base': 682.76, 'units': 'M'},\n",
    "  'LOGAN CANYON FM': {'top': 728.18, 'base': 1492.01, 'units': 'M'},\n",
    "  'NASKAPI MB': {'top': 1449.65, 'base': 1492.01, 'units': 'M'},\n",
    "  'MISSISAUGA FM': {'top': 1492.01, 'base': 1996.46, 'units': 'M'},\n",
    "  'MISSISAUGA UPPER MB': {'top': 1492.01, 'base': 1800.48, 'units': 'M'},\n",
    "  '(\"O\" MARKER ?)': {'top': 1795.29, 'base': 1800.48, 'units': 'M'},\n",
    "  'MISSISAUGA MIDDLE MB': {'top': 1800.48, 'base': 1946.48, 'units': 'M'},\n",
    "  'MISSISAUGA LOWER MB': {'top': 1946.48, 'base': 1996.46, 'units': 'M'},\n",
    "  '(CAPROCK ?)': {'top': 1996.46, 'base': 2167.15, 'units': 'M'},\n",
    "  'ARGO FM': {'top': 2167.15, 'base': 2178.43, 'units': 'M'}})\n",
    "```"
   ]
  },
  {
   "cell_type": "markdown",
   "metadata": {},
   "source": [
    "Now we want to create an object that contains the tops from a particular well. This object can also contain different information relevant to the description of this well. It should include, as a minumum, the well name, its location and a dictionary of tops similar to the one we loaded in the previous exercise."
   ]
  },
  {
   "cell_type": "markdown",
   "metadata": {
    "tags": [
     "exercise"
    ]
   },
   "source": [
    "<div class=\"alert alert-success\">\n",
    "<h3>Exercises</h3>\n",
    "\n",
    "- Add a name to the Well — let the user pass it in. Hint: edit the `__init__()` class.\n",
    "- Add a `__repr__()` method to control the way the well displays. E.g. try this:\n",
    "      def __repr__(self):\n",
    "          return \"Well({})\".format(self.name)\n",
    "- Add a **class method** called `from_csv()` that makes a Rock from strings like \"2300,1200,2500,Sandstone\"\n",
    "----\n",
    "</div>"
   ]
  },
  {
   "cell_type": "code",
   "execution_count": null,
   "metadata": {},
   "outputs": [],
   "source": [
    "class Well(object):\n",
    "    def __init__(self, name, tops, location=(None, None)):\n",
    "        self.name = name\n",
    "        self.tops = tops\n",
    "        self.location = location\n",
    "    \n",
    "    @classmethod\n",
    "    def from_csv(cls, path):\n",
    "        # put your code here\n",
    "        return cls(name, tops, location)"
   ]
  },
  {
   "cell_type": "code",
   "execution_count": null,
   "metadata": {},
   "outputs": [],
   "source": [
    "w = Well.from_csv('../data/tops/ABENAKI_L-57.tops')\n",
    "print(w)"
   ]
  },
  {
   "cell_type": "code",
   "execution_count": null,
   "metadata": {},
   "outputs": [],
   "source": [
    "w.location"
   ]
  },
  {
   "cell_type": "code",
   "execution_count": null,
   "metadata": {},
   "outputs": [],
   "source": [
    "w.tops"
   ]
  },
  {
   "cell_type": "markdown",
   "metadata": {},
   "source": [
    "## Exercises\n",
    "\n",
    "- Create a list of Well objects from ALL the top files that are in `../data/tops`\n",
    "- Plot the locations of all wells using matplotlib\n",
    "\n",
    "Challenge:\n",
    "- Using as reference the notebook `Gridding_map_data.ipynb`, choose as reference top `NASKAPI MB` and create a interpolation 2D grid of the depth values of the base with respect to the latitude and longitude of each well.\n",
    "    - Careful, note every well will have that top available, so make sure your script can deal with this issue."
   ]
  },
  {
   "cell_type": "code",
   "execution_count": null,
   "metadata": {},
   "outputs": [],
   "source": []
  }
 ],
 "metadata": {
  "kernelspec": {
   "display_name": "Python 3",
   "language": "python",
   "name": "python3"
  },
  "language_info": {
   "codemirror_mode": {
    "name": "ipython",
    "version": 3
   },
   "file_extension": ".py",
   "mimetype": "text/x-python",
   "name": "python",
   "nbconvert_exporter": "python",
   "pygments_lexer": "ipython3",
   "version": "3.6.10"
  }
 },
 "nbformat": 4,
 "nbformat_minor": 2
}
