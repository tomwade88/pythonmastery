{
 "cells": [
  {
   "cell_type": "markdown",
   "metadata": {},
   "source": [
    "# Introduction to object oriented Python\n",
    "\n",
    "Everything in Python is an object: variables, raw types, functions, everything.\n",
    "\n",
    "Sometimes it's useful to organize code around data — to think of a type of data as owning its own functions and metadata. In essence, we store data along with relevant functions (methods) in one 'thing' — an object. You can also think of this as writing your own 'types'.\n",
    "\n",
    "You can also build very complicated code this way, so be careful! Don't dive into writing classes until you've used Python for a while and start to see how most people use objects in Python. \n",
    "\n",
    "This notebook builds on the workflow in [Intro to PYthon](Intro_to_Python.ipynb), so you shoudl be sure to look at that notebook first."
   ]
  },
  {
   "cell_type": "markdown",
   "metadata": {},
   "source": [
    "## Types\n",
    "\n",
    "Python has several types, many of which you're already familiar with."
   ]
  },
  {
   "cell_type": "code",
   "execution_count": 1,
   "metadata": {},
   "outputs": [
    {
     "data": {
      "text/plain": [
       "int"
      ]
     },
     "execution_count": 1,
     "metadata": {},
     "output_type": "execute_result"
    }
   ],
   "source": [
    "type(5)"
   ]
  },
  {
   "cell_type": "code",
   "execution_count": null,
   "metadata": {},
   "outputs": [],
   "source": [
    "type('fifteen'), type('15')"
   ]
  },
  {
   "cell_type": "markdown",
   "metadata": {},
   "source": [
    "'fifteen' is an **instance** of the class **str**.\n",
    "\n",
    "Most of these objects have methods, which are just functions that 'belong' to the class:"
   ]
  },
  {
   "cell_type": "code",
   "execution_count": 2,
   "metadata": {},
   "outputs": [
    {
     "data": {
      "text/plain": [
       "3"
      ]
     },
     "execution_count": 2,
     "metadata": {},
     "output_type": "execute_result"
    }
   ],
   "source": [
    "'fifteen'.find('t')  # Call the method `find` on the string"
   ]
  },
  {
   "cell_type": "code",
   "execution_count": 3,
   "metadata": {},
   "outputs": [
    {
     "data": {
      "text/plain": [
       "array([1, 2, 3, 4, 5, 6])"
      ]
     },
     "execution_count": 3,
     "metadata": {},
     "output_type": "execute_result"
    }
   ],
   "source": [
    "import numpy as np\n",
    "\n",
    "a = np.array([1,2,3,4,5,6])\n",
    "\n",
    "a"
   ]
  },
  {
   "cell_type": "code",
   "execution_count": null,
   "metadata": {},
   "outputs": [],
   "source": []
  },
  {
   "cell_type": "code",
   "execution_count": null,
   "metadata": {},
   "outputs": [],
   "source": [
    "lst = [1,3,4,5,7,8]\n",
    "lst.append(1000)\n",
    "lst"
   ]
  },
  {
   "cell_type": "markdown",
   "metadata": {},
   "source": [
    "## A simple class"
   ]
  },
  {
   "cell_type": "code",
   "execution_count": null,
   "metadata": {},
   "outputs": [],
   "source": [
    "layers = [0.23, 0.34, 0.45, 0.25, 0.23, 0.35]"
   ]
  },
  {
   "cell_type": "markdown",
   "metadata": {},
   "source": [
    "Start with only one special method: `__init__()` which is required anyway.\n",
    "\n",
    "Inside `__init__()` we'll only define one **attribute**, `self.layers`."
   ]
  },
  {
   "cell_type": "code",
   "execution_count": null,
   "metadata": {},
   "outputs": [],
   "source": [
    "import numpy as np\n",
    "\n",
    "class Layers(object):  # The 'new' Python base class — gives us some useful basic features.\n",
    "    \n",
    "    def __init__(self, layers):  # All methods take `self`, which is 'this' instance\n",
    "\n",
    "        # Just make sure we end up with an array\n",
    "        self.layers = np.array(layers)\n",
    "        \n",
    "        # __init__ can not return anything, and most people don't include a `return` line."
   ]
  },
  {
   "cell_type": "markdown",
   "metadata": {},
   "source": [
    "Now we can **instantiate** an instance of the class **Layers**"
   ]
  },
  {
   "cell_type": "code",
   "execution_count": null,
   "metadata": {},
   "outputs": [],
   "source": [
    "l = Layers(layers=layers)"
   ]
  },
  {
   "cell_type": "code",
   "execution_count": null,
   "metadata": {},
   "outputs": [],
   "source": [
    "l"
   ]
  },
  {
   "cell_type": "code",
   "execution_count": null,
   "metadata": {},
   "outputs": [],
   "source": [
    "l.layers"
   ]
  },
  {
   "cell_type": "markdown",
   "metadata": {},
   "source": [
    "At this point, we might as well just have an array, like we had before. So let's add another attribute, let's give the object a natural language name called `label`:"
   ]
  },
  {
   "cell_type": "code",
   "execution_count": null,
   "metadata": {},
   "outputs": [],
   "source": [
    "class Layers(object):\n",
    "    \n",
    "    def __init__(self, layers, label=None):  # We use a default value of None\n",
    "\n",
    "        self.layers = np.array(layers)\n",
    "        self.label = label or \"My log\"  # This trick substitutes anything evaluating as False with 'My log'"
   ]
  },
  {
   "cell_type": "code",
   "execution_count": null,
   "metadata": {},
   "outputs": [],
   "source": [
    "l = Layers(layers, label='Well 1')"
   ]
  },
  {
   "cell_type": "code",
   "execution_count": null,
   "metadata": {},
   "outputs": [],
   "source": [
    "l.label"
   ]
  },
  {
   "cell_type": "markdown",
   "metadata": {},
   "source": [
    "## Magic methods"
   ]
  },
  {
   "cell_type": "markdown",
   "metadata": {},
   "source": [
    "Let's find out how big our fancy `Layers` object is..."
   ]
  },
  {
   "cell_type": "code",
   "execution_count": null,
   "metadata": {},
   "outputs": [],
   "source": [
    "len(l)"
   ]
  },
  {
   "cell_type": "markdown",
   "metadata": {},
   "source": [
    "Dammit!\n",
    "\n",
    "The class inherited from `object` when we defined it, and it doesn't know how to apply `len` to our thing. We could do this..."
   ]
  },
  {
   "cell_type": "code",
   "execution_count": null,
   "metadata": {},
   "outputs": [],
   "source": [
    "len(l.layers)"
   ]
  },
  {
   "cell_type": "markdown",
   "metadata": {},
   "source": [
    "But sometimes we'd like something to 'just work' — maybe later we're going to pass our instances to something that can take lists or our new objects, and that thing might call `len()` on our object. \n",
    "\n",
    "That's why this also doesn't help:"
   ]
  },
  {
   "cell_type": "code",
   "execution_count": null,
   "metadata": {},
   "outputs": [],
   "source": [
    "class Layers(object):\n",
    "    def __init__(self, layers, label=None):\n",
    "        self.layers = np.array(layers)\n",
    "        self.label = label or \"My log\"\n",
    "        self.length = self.layers.size"
   ]
  },
  {
   "cell_type": "markdown",
   "metadata": {},
   "source": [
    "What's more, storing length in an attribute like this is unexpected...\n",
    "\n",
    "So we tell it with a so-called 'dunder' (double-underscore) or ['magic' method](https://docs.python.org/3/reference/datamodel.html) (not to be confused with IPython magics). That way, we can give our object the same interface as typical Python objects."
   ]
  },
  {
   "cell_type": "code",
   "execution_count": null,
   "metadata": {},
   "outputs": [],
   "source": [
    "class Layers(object):\n",
    "    def __init__(self, layers, label=None): \n",
    "        self.layers = np.array(layers)\n",
    "        self.label = label or \"My log\"\n",
    "\n",
    "    def __len__(self):\n",
    "        return len(self.layers)"
   ]
  },
  {
   "cell_type": "code",
   "execution_count": null,
   "metadata": {},
   "outputs": [],
   "source": [
    "l = Layers(layers, label='Well 1')\n",
    "len(l)"
   ]
  },
  {
   "cell_type": "markdown",
   "metadata": {},
   "source": [
    "Another useful magic method is `__repr__()`. Right now all we see when we do `l` on its own is:"
   ]
  },
  {
   "cell_type": "code",
   "execution_count": null,
   "metadata": {},
   "outputs": [],
   "source": [
    "l"
   ]
  },
  {
   "cell_type": "markdown",
   "metadata": {},
   "source": [
    "A similar method `__str__()` defines what happens if we cast the object to a `str` type — which is also what happens to it if we call `print()` on it.\n",
    "\n",
    "- The goal of `__repr__` is to be unambiguous\n",
    "- The goal of `__str__` is to be readable\n",
    "\n",
    "\n",
    "By default, `str` does the same as `repr`:"
   ]
  },
  {
   "cell_type": "code",
   "execution_count": null,
   "metadata": {},
   "outputs": [],
   "source": [
    "print(l)"
   ]
  },
  {
   "cell_type": "markdown",
   "metadata": {
    "tags": [
     "exercise"
    ]
   },
   "source": [
    "<div class=\"alert alert-success\">\n",
    "<h3>Exercise:</h3>\n",
    "\n",
    "- Try writing a `__str__()` method. Keep it simple. It should return `Layers(6 layers)` when you print our 6-layer instance on the command line.\n",
    "- Try writing a `__repr__()` method. It should return the code required to instantiate the object. It should return `Layers(layers=array([0.23, 0.34, 0.45, 0.25, 0.23, 0.35]), label=\"Well 1\")` when you type the name of our 6-layer instance on the command line.\n",
    "- **Hint.** You might want to use `repr()` on the internal `self.layers` object to get a representation of it for your `repr`.\n",
    "</div>"
   ]
  },
  {
   "cell_type": "code",
   "execution_count": null,
   "metadata": {},
   "outputs": [],
   "source": [
    "class Layers(object):\n",
    "    def __init__(self, layers, label=None): \n",
    "        self.layers = np.array(layers)\n",
    "        self.label = label or \"My log\"\n",
    "\n",
    "    def __len__(self):\n",
    "        return len(self.layers)\n",
    "    \n",
    "    def __repr__(self):\n",
    "        # Your code here.\n",
    "        \n",
    "    def __str__(self):\n",
    "        # Your code here."
   ]
  },
  {
   "cell_type": "markdown",
   "metadata": {},
   "source": [
    "A handy extra magic method in Jupyter notebook is `_repr_html_()` which tells the notebook what to use for `repr()` — it overrides `__repr__()` when you're in the notebook."
   ]
  },
  {
   "cell_type": "code",
   "execution_count": null,
   "metadata": {},
   "outputs": [],
   "source": [
    "class Layers(object):\n",
    "    def __init__(self, layers, label=None):\n",
    "        self.layers = np.array(layers)\n",
    "        self.label = label or \"My log\"\n",
    "        self.length = self.layers.size\n",
    "        \n",
    "    def __len__(self):\n",
    "        return len(self.layers)\n",
    "\n",
    "    def _repr_html_(self):\n",
    "        rows = \"<tr><th>{}</th></tr>\".format(self.label)\n",
    "        rows += \"<tr><td>\"\n",
    "        layer_strs = [str(i) for i in self.layers]\n",
    "        rows += \"</td></tr><tr><td>\".join(layer_strs)\n",
    "        rows += \"</td></tr>\"\n",
    "        html = \"<table>{}</table>\".format(rows)\n",
    "        return html"
   ]
  },
  {
   "cell_type": "code",
   "execution_count": null,
   "metadata": {},
   "outputs": [],
   "source": [
    "l = Layers(layers, label='Well 1')\n",
    "l"
   ]
  },
  {
   "cell_type": "markdown",
   "metadata": {
    "tags": [
     "exercise"
    ]
   },
   "source": [
    "<div class=\"alert alert-success\">\n",
    "<h3>Exercise</h3>\n",
    "\n",
    "- Try writing a method that allows you to do layers1 + layers2. You will need to define an `__add__()` method. It should return the result ofthe concatenation.\n",
    "- Use `np.hstack([arr1, arr2])` to stack the arrays containing the data. Form some kind of new label.\n",
    "</div>"
   ]
  },
  {
   "cell_type": "code",
   "execution_count": null,
   "metadata": {},
   "outputs": [],
   "source": [
    "class Layers(object):\n",
    "    def __init__(self, layers, label=None):\n",
    "        self.layers = np.array(layers)\n",
    "        self.label = label or \"My log\"\n",
    "        self.length = self.layers.size\n",
    "        \n",
    "    def __len__(self):\n",
    "        return len(self.layers)\n",
    "\n",
    "    def __add__(self, other):\n",
    "        # Your code here\n",
    "    \n",
    "    def _repr_html_(self):\n",
    "        rows = \"<tr><th>{}</th></tr>\".format(self.label)\n",
    "        rows += \"<tr><td>\"\n",
    "        layer_strs = [str(i) for i in self.layers]\n",
    "        rows += \"</td></tr><tr><td>\".join(layer_strs)\n",
    "        rows += \"</td></tr>\"\n",
    "        html = \"<table>{}</table>\".format(rows)\n",
    "        return html"
   ]
  },
  {
   "cell_type": "markdown",
   "metadata": {},
   "source": [
    "## Constructor methods\n",
    "\n",
    "It can be handy to have several ways to instantiate a class, rather than knowing you'll pass a list (say). \n",
    "\n",
    "Let's make a CSV file and write a special method to read those. Even though this is only a 1D dataset, I'll make it more interesting — and more like what you'll normally encounter — by assuming we're reading lots of rows from the CSV."
   ]
  },
  {
   "cell_type": "code",
   "execution_count": null,
   "metadata": {},
   "outputs": [],
   "source": [
    "import csv\n",
    "\n",
    "with open('../data/my_layers.csv', 'w') as f:\n",
    "    writer = csv.writer(f)\n",
    "    for row in layers:\n",
    "        writer.writerow([row])  # Have to form a list b/c it's just a 1D array."
   ]
  },
  {
   "cell_type": "code",
   "execution_count": null,
   "metadata": {},
   "outputs": [],
   "source": [
    "class Layers(object):\n",
    "    def __init__(self, layers, label=None):\n",
    "        self.layers = np.array(layers)\n",
    "        self.label = label or \"My log\"\n",
    "        self.length = self.layers.size\n",
    "        \n",
    "    def __len__(self):\n",
    "        return len(self.layers)\n",
    "    \n",
    "    def _repr_html_(self):\n",
    "        rows = \"<tr><th>{}</th></tr>\".format(self.label)\n",
    "        rows += \"<tr><td>\"\n",
    "        layer_strs = [str(i) for i in self.layers]\n",
    "        rows += \"</td></tr><tr><td>\".join(layer_strs)\n",
    "        rows += \"</td></tr>\"\n",
    "        html = \"<table>{}</table>\".format(rows)\n",
    "        return html\n",
    "    \n",
    "    # This decorator indicates to Python that this method handles classes not instances.\n",
    "    @classmethod\n",
    "    def from_csv(cls, filename, column=0):  # Takes cls not self.\n",
    "        layer_list = []\n",
    "        with open(filename, 'r') as f:\n",
    "            reader = csv.reader(f)\n",
    "            for row in reader:\n",
    "                layer_list.append(row[column])\n",
    "        return cls(layer_list)  # Returns an instance of the class."
   ]
  },
  {
   "cell_type": "code",
   "execution_count": null,
   "metadata": {},
   "outputs": [],
   "source": [
    "l = Layers.from_csv('../data/my_layers.csv', column=0)\n",
    "l"
   ]
  },
  {
   "cell_type": "markdown",
   "metadata": {
    "tags": [
     "exercise"
    ]
   },
   "source": [
    "<div class=\"alert alert-success\">\n",
    "<h3>Exercises</h3>\n",
    "\n",
    "- Can you write a method to compute reflection coefficients for these layers?\n",
    "- Can you write a method to plot the `Layers` instance?\n",
    "</div>"
   ]
  },
  {
   "cell_type": "code",
   "execution_count": null,
   "metadata": {},
   "outputs": [],
   "source": [
    "l = Layers(layers, label='Well 1')\n",
    "l.rcs()"
   ]
  },
  {
   "cell_type": "code",
   "execution_count": null,
   "metadata": {},
   "outputs": [],
   "source": [
    "l.plot()"
   ]
  },
  {
   "cell_type": "markdown",
   "metadata": {},
   "source": [
    "<hr />\n",
    "\n",
    "<div>\n",
    "<img src=\"https://avatars1.githubusercontent.com/u/1692321?s=50\"><p style=\"text-align:center\">© Agile Geoscience 2019</p>\n",
    "</div>"
   ]
  }
 ],
 "metadata": {
  "anaconda-cloud": {},
  "kernelspec": {
   "display_name": "mastery",
   "language": "python",
   "name": "mastery"
  },
  "language_info": {
   "codemirror_mode": {
    "name": "ipython",
    "version": 3
   },
   "file_extension": ".py",
   "mimetype": "text/x-python",
   "name": "python",
   "nbconvert_exporter": "python",
   "pygments_lexer": "ipython3",
   "version": "3.7.3"
  }
 },
 "nbformat": 4,
 "nbformat_minor": 1
}
