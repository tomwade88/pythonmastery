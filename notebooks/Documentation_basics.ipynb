{
 "cells": [
  {
   "cell_type": "markdown",
   "metadata": {},
   "source": [
    "# Documentation"
   ]
  },
  {
   "cell_type": "markdown",
   "metadata": {},
   "source": [
    "## Comments and docstrings\n",
    "\n",
    "In general:\n",
    "\n",
    "- Try to write code that doesn't need comments.\n",
    "- Either make comments useful or leave them out.\n",
    "- Comments should be complete sentences.\n",
    "- Use correct punctuation.\n",
    "- Be brief.\n",
    "- Only use string literals for docstrings.\n",
    "- Use two spaces before an in-line comment.\n",
    "- Put a space after the # symbol.\n",
    "- Give scientific citations where appropriate.\n",
    "- Don't comment out code you don't use, delete it."
   ]
  },
  {
   "cell_type": "code",
   "execution_count": null,
   "metadata": {},
   "outputs": [],
   "source": [
    "def ignore_case(x):\n",
    "    \"\"\"\n",
    "    This is a docstring. It's special.\n",
    "    \n",
    "    Args:\n",
    "        x (str). The input arguments.\n",
    "        \n",
    "    Returns:\n",
    "        str. What the function returns.\n",
    "    \"\"\"\n",
    "    # This is just a normal comment.\n",
    "    return x.lower()  # So is this."
   ]
  },
  {
   "cell_type": "code",
   "execution_count": null,
   "metadata": {},
   "outputs": [],
   "source": [
    "help(ignore_case)"
   ]
  },
  {
   "cell_type": "code",
   "execution_count": null,
   "metadata": {},
   "outputs": [],
   "source": [
    "print(ignore_case.__doc__)"
   ]
  },
  {
   "cell_type": "code",
   "execution_count": null,
   "metadata": {},
   "outputs": [],
   "source": [
    "# In Jupyter Notebook\n",
    "ignore_case?"
   ]
  },
  {
   "cell_type": "markdown",
   "metadata": {},
   "source": [
    "You'll find that all built-in functions and libraries, and everything in big 3rd party libraries like NumPy, has great documentation:"
   ]
  },
  {
   "cell_type": "code",
   "execution_count": null,
   "metadata": {},
   "outputs": [],
   "source": [
    "help(print)"
   ]
  },
  {
   "cell_type": "markdown",
   "metadata": {},
   "source": [
    "### Poor style"
   ]
  },
  {
   "cell_type": "code",
   "execution_count": null,
   "metadata": {},
   "outputs": [],
   "source": [
    "a = 9.81  # Gravitational acceleration.\n",
    "b = 5     # Time in seconds.\n",
    "c = (1/2) * a * (b**2)  # Calculate displacement."
   ]
  },
  {
   "cell_type": "markdown",
   "metadata": {},
   "source": [
    "This is better:"
   ]
  },
  {
   "cell_type": "code",
   "execution_count": null,
   "metadata": {},
   "outputs": [],
   "source": [
    "# Calculate displacement s given acceleration due to gravity and\n",
    "# time, according to kinematic equation for constant acceleration.\n",
    "g = 9.81\n",
    "t = 5\n",
    "s = (1/2) * g * (t**2)"
   ]
  },
  {
   "cell_type": "markdown",
   "metadata": {},
   "source": [
    "This might be better still, depending on your opinion:"
   ]
  },
  {
   "cell_type": "code",
   "execution_count": null,
   "metadata": {},
   "outputs": [],
   "source": [
    "accelation_gravity = 9.81\n",
    "time_in_s = 5\n",
    "displacement_in_m = (1/2) * accelation_gravity * (time_in_s**2)"
   ]
  },
  {
   "cell_type": "markdown",
   "metadata": {},
   "source": [
    "## A note about units"
   ]
  },
  {
   "cell_type": "markdown",
   "metadata": {},
   "source": [
    "Units are a bit of a problem in scientific computing. There are several solutions, the best of which are probably `pint` and `astropy.units`. Here's `pint` in action:"
   ]
  },
  {
   "cell_type": "code",
   "execution_count": null,
   "metadata": {},
   "outputs": [],
   "source": [
    "import pint\n",
    "\n",
    "ur = pint.UnitRegistry()\n",
    "\n",
    "g = 9.81 * ur.m / (ur.s)**2\n",
    "t = 5 * ur.s\n",
    "s = (1/2) * g * (t**2)\n",
    "\n",
    "s"
   ]
  },
  {
   "cell_type": "markdown",
   "metadata": {},
   "source": [
    "## Writing complete docs with `sphinx`"
   ]
  },
  {
   "cell_type": "code",
   "execution_count": null,
   "metadata": {},
   "outputs": [],
   "source": []
  },
  {
   "cell_type": "markdown",
   "metadata": {},
   "source": [
    "## `doctest`\n",
    "\n",
    "Make your docstrings work for a living!"
   ]
  },
  {
   "cell_type": "code",
   "execution_count": null,
   "metadata": {},
   "outputs": [],
   "source": [
    "def quad(x, a=1, b=1, c=0):\n",
    "    \"\"\"\n",
    "    Returns the quadratic function of x,\n",
    "    a.x^2 + b.x + c\n",
    "    where\n",
    "    a = b = 1 and c = 0.\n",
    "    \n",
    "    Examples:\n",
    "    >>> quad(10)\n",
    "    110\n",
    "    >>> quad(10, a=3, b=2, c=1)\n",
    "    321\n",
    "    \"\"\"\n",
    "    return a*x**2 + b*x + c"
   ]
  },
  {
   "cell_type": "code",
   "execution_count": null,
   "metadata": {},
   "outputs": [],
   "source": [
    "quad(10)"
   ]
  },
  {
   "cell_type": "code",
   "execution_count": null,
   "metadata": {},
   "outputs": [],
   "source": [
    "quad(10, a=3, b=2, c=1)"
   ]
  },
  {
   "cell_type": "code",
   "execution_count": null,
   "metadata": {},
   "outputs": [],
   "source": [
    "import doctest\n",
    "doctest.run_docstring_examples(quad, globals(), verbose=True)"
   ]
  },
  {
   "cell_type": "code",
   "execution_count": null,
   "metadata": {},
   "outputs": [],
   "source": [
    "doctest.testmod()"
   ]
  },
  {
   "cell_type": "code",
   "execution_count": null,
   "metadata": {},
   "outputs": [],
   "source": [
    "from IPython.core.magic import register_line_magic\n",
    "import doctest\n",
    "\n",
    "@register_line_magic\n",
    "def testit(_):\n",
    "    return doctest.testmod()"
   ]
  },
  {
   "cell_type": "code",
   "execution_count": null,
   "metadata": {},
   "outputs": [],
   "source": [
    "%testit"
   ]
  },
  {
   "cell_type": "code",
   "execution_count": null,
   "metadata": {},
   "outputs": [],
   "source": [
    "from functools import wraps\n",
    "import doctest\n",
    "\n",
    "def test(func):\n",
    "    @wraps(func)\n",
    "    def f(*args, **kwargs):\n",
    "        return func(*args, **kwargs)\n",
    "    doctest.run_docstring_examples(func, globals())\n",
    "    return f"
   ]
  },
  {
   "cell_type": "code",
   "execution_count": null,
   "metadata": {},
   "outputs": [],
   "source": [
    "@test\n",
    "def quadd(x, a=1, b=1, c=0):\n",
    "    \"\"\"\n",
    "    Returns the quadratic function of x,\n",
    "    a.x^2 + b.x + c\n",
    "    where\n",
    "    a = b = 1 and c = 0.\n",
    "    \n",
    "    Examples:\n",
    "    >>> quadd(10)\n",
    "    110\n",
    "    >>> quadd(10, a=3, b=2, c=1)\n",
    "    321\n",
    "    >>> quadd(0, c=5)\n",
    "    4\n",
    "    \"\"\"\n",
    "    return a*x**2 + b*x + c"
   ]
  },
  {
   "cell_type": "code",
   "execution_count": null,
   "metadata": {},
   "outputs": [],
   "source": [
    "quadd(0, c=5)"
   ]
  },
  {
   "cell_type": "markdown",
   "metadata": {},
   "source": [
    "## Type hints\n",
    "\n",
    "New in Python 3. Essentially a type of documentation. [Read about them.](https://docs.python.org/3/library/typing.html) [Read PEP484](https://www.python.org/dev/peps/pep-0484/).\n",
    "\n",
    "You can check the internal consistency of types using [mypy](http://mypy-lang.org/index.html).\n",
    "\n",
    "Python is **strongly typed** — you cannot add an `int` to a `str`. For example, `2 + \"3\"` throws a `TypeError`, whereas in JavaScript, which is weakly typed, it returns `\"23\"`. \n",
    "\n",
    "But Python is **dynamically typed**, so I can do `x = 5` and then, later, `x = \"Hello\"` — the type of `x` is dynamic, and depends only on the data I point it to. Similarly, I can pass ints, floats or strings into a function that multiplies things:"
   ]
  },
  {
   "cell_type": "code",
   "execution_count": null,
   "metadata": {},
   "outputs": [],
   "source": [
    "def double(n):\n",
    "    return 2 * n\n",
    "\n",
    "double('this')"
   ]
  },
  {
   "cell_type": "markdown",
   "metadata": {},
   "source": [
    "As you might imagine, sometimes this kind of flexibility can be the cause of bugs. \n",
    "\n",
    "The basic idea of type hints is to bridge the gap between dynamic typing (Python's usual mode, so to speak), and static typing (a popular feature of some other languages, such as Java or C).\n",
    "\n",
    "You can annotate a variable assignment with the expected type of the variable, for example:"
   ]
  },
  {
   "cell_type": "code",
   "execution_count": null,
   "metadata": {},
   "outputs": [],
   "source": [
    "n: float = 3.14159"
   ]
  },
  {
   "cell_type": "markdown",
   "metadata": {},
   "source": [
    "There's a similar signature for annotating functions, with some special syntax for annotating the return variable too:"
   ]
  },
  {
   "cell_type": "code",
   "execution_count": null,
   "metadata": {},
   "outputs": [],
   "source": [
    "def double(n: float) -> float:\n",
    "    return 2 * n\n",
    "\n",
    "double(2.1)"
   ]
  },
  {
   "cell_type": "markdown",
   "metadata": {},
   "source": [
    "These are just annotations, however, there is no actual type checking. You can still do whatever you want."
   ]
  },
  {
   "cell_type": "code",
   "execution_count": null,
   "metadata": {},
   "outputs": [],
   "source": [
    "double('this')"
   ]
  },
  {
   "cell_type": "markdown",
   "metadata": {},
   "source": [
    "You can, however, check the internal consistency of types using [mypy](http://mypy-lang.org/index.html).\n",
    "\n",
    "The `typing` module helps make composite types (e.g. a list of floats), new types, etc."
   ]
  },
  {
   "cell_type": "code",
   "execution_count": null,
   "metadata": {},
   "outputs": [],
   "source": [
    "from typing import List\n",
    "Vector = List[float]\n",
    "\n",
    "def scale(scalar: float, vector: Vector) -> Vector:\n",
    "    return [scalar * num for num in vector]\n",
    "\n",
    "# typechecks; a list of floats qualifies as a Vector.\n",
    "new_vector = scale(2.0, [1.0, -4.2, 5.4])"
   ]
  },
  {
   "cell_type": "code",
   "execution_count": null,
   "metadata": {},
   "outputs": [],
   "source": [
    "new_vector"
   ]
  },
  {
   "cell_type": "markdown",
   "metadata": {},
   "source": [
    "None of this changes the actual type of the variables:"
   ]
  },
  {
   "cell_type": "code",
   "execution_count": null,
   "metadata": {},
   "outputs": [],
   "source": [
    "type(new_vector)"
   ]
  }
 ],
 "metadata": {
  "anaconda-cloud": {},
  "kernelspec": {
   "display_name": "mastery",
   "language": "python",
   "name": "mastery"
  },
  "language_info": {
   "codemirror_mode": {
    "name": "ipython",
    "version": 3
   },
   "file_extension": ".py",
   "mimetype": "text/x-python",
   "name": "python",
   "nbconvert_exporter": "python",
   "pygments_lexer": "ipython3",
   "version": "3.6.10"
  }
 },
 "nbformat": 4,
 "nbformat_minor": 1
}
