{
  "cells": [
    {
      "cell_type": "markdown",
      "source": [
        "# Geocomputing mastery course\n",
        "\n",
        "Welcome to geocomputing mastery!"
      ],
      "metadata": {
        "nbpresent": {
          "id": "601d0118-f7de-409d-a353-81c531c65795"
        }
      }
    },
    {
      "cell_type": "markdown",
      "source": [
        "## Day 1. Introduction to Python\n",
        "\n",
        "- Check-in and introductions\n",
        "- Quick course overview\n",
        "- [**Intro to Object Oriented Programming**](notebooks/Object_oriented_programming.ipynb)\n",
        "    - [**Practice 1**](notebooks/Object_oriented_programming_practice.ipynb)\n",
        "    - [**Practice 2**](notebooks/Object_oriented_programming_practice_Well.ipynb)\n",
        "- Work on individual projects\n",
        "- Check out"
      ],
      "metadata": {
        "nbpresent": {
          "id": "e99ff0b0-dbc5-4334-a0c1-b64fd43df906"
        }
      }
    },
    {
      "cell_type": "markdown",
      "source": [
        "## Day 2. Command Line Interfaces in Python\n",
        "\n",
        "- Check in\n",
        "- How to build a CLI in Python\n",
        "- Dashboards and interactive applications\n",
        "- Work on individual projects\n",
        "- Check out"
      ],
      "metadata": {
        "nbpresent": {
          "id": "2bef1a51-4c16-4878-8dee-5b4b2b0d97a8"
        }
      }
    },
    {
      "cell_type": "markdown",
      "source": [
        "## Day 3. Packaging and code distribution\n",
        "\n",
        "- Check in\n",
        "- How to build and package scripts in Python\n",
        "- Work on individual projects\n",
        "- Check out"
      ],
      "metadata": {
        "nbpresent": {
          "id": "46020cb0-0041-4fa9-813f-20fa44396679"
        }
      }
    }
  ],
  "metadata": {
    "anaconda-cloud": {},
    "kernelspec": {
      "display_name": "geocomp",
      "language": "python",
      "name": "geocomp"
    },
    "language_info": {
      "codemirror_mode": {
        "name": "ipython",
        "version": 3
      },
      "file_extension": ".py",
      "mimetype": "text/x-python",
      "name": "python",
      "nbconvert_exporter": "python",
      "pygments_lexer": "ipython3",
      "version": "3.7.2"
    },
    "nteract": {
      "version": "0.13.0"
    }
  },
  "nbformat": 4,
  "nbformat_minor": 1
}